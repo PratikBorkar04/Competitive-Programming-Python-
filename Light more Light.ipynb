{
 "cells": [
  {
   "cell_type": "code",
   "execution_count": 2,
   "id": "fd60b203",
   "metadata": {},
   "outputs": [
    {
     "name": "stdout",
     "output_type": "stream",
     "text": [
      "Enter length of row:- 8191\n",
      "NO\n"
     ]
    }
   ],
   "source": [
    "#Light more Light\n",
    "    '''\n",
    "        There is man named Mabu who switches on-off the lights along a corridor at our\n",
    "        university. Every bulb has its own toggle switch that changes the state of the light. If\n",
    "        the light is off, pressing the switch turns it on. Pressing it again will turn it off. Initially\n",
    "        each bulb is off.\n",
    "        He does a peculiar thing. If there are n bulbs in a corridor, he walks along the corridor\n",
    "        back and forth n times. On the ith walk, he toggles only the switches whose position\n",
    "        is divisible by i. He does not press any switch when coming back to his initial position.\n",
    "        The ith walk is defined as going down the corridor (doing his peculiar thing) and coming\n",
    "        back again. Determine the final state of the last bulb. Is it on or off?\n",
    "    '''\n",
    "#Input :-\n",
    "    '''\n",
    "        The input will be an integer indicating the nth bulb in a corridor, which is less than or\n",
    "        equal to 232 − 1. A zero indicates the end of input and should not be processed.\n",
    "    '''   \n",
    "#Output\n",
    "    '''\n",
    "        Output\n",
    "        Output “yes” or “no” to indicate if the light is on, with each case appearing on its own\n",
    "        line.\n",
    "    '''\n",
    "#Sample Input\n",
    "    '''    \n",
    "        3\n",
    "        6241\n",
    "        8191\n",
    "    '''\n",
    "\n",
    "#Sample Output\n",
    "    '''\n",
    "        no\n",
    "        yes\n",
    "        no\n",
    "    '''\n",
    "\n",
    "n = int(input(\"Enter length of row:- \"))\n",
    "count = 0\n",
    "for i in range(1,n+1):\n",
    "    try:\n",
    "        if n%i == 0:\n",
    "            count = count + 1\n",
    "    except Exception as ex:\n",
    "        print(ex)\n",
    "if count % 2 == 0:\n",
    "    print(\"NO\")\n",
    "else:\n",
    "    print(\"YES\")\n"
   ]
  },
  {
   "cell_type": "code",
   "execution_count": null,
   "id": "0120ab7a",
   "metadata": {},
   "outputs": [],
   "source": []
  }
 ],
 "metadata": {
  "kernelspec": {
   "display_name": "Python 3",
   "language": "python",
   "name": "python3"
  },
  "language_info": {
   "codemirror_mode": {
    "name": "ipython",
    "version": 3
   },
   "file_extension": ".py",
   "mimetype": "text/x-python",
   "name": "python",
   "nbconvert_exporter": "python",
   "pygments_lexer": "ipython3",
   "version": "3.8.8"
  }
 },
 "nbformat": 4,
 "nbformat_minor": 5
}

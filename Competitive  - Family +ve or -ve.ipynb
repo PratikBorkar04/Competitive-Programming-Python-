{
 "cells": [
  {
   "cell_type": "code",
   "execution_count": 17,
   "id": "9688ae82",
   "metadata": {},
   "outputs": [
    {
     "name": "stdout",
     "output_type": "stream",
     "text": [
      "Enter Virus name:- coronavirus\n",
      "Enter found Symptoms:-vrus\n",
      "+ve\n"
     ]
    }
   ],
   "source": [
    "#checks Whether your family is affected with any virus or not\n",
    "st1 = input(\"Enter Virus name:- \")\n",
    "st2 = input(\"Enter found Symptoms:-\")\n",
    "\n",
    "ls1 = []\n",
    "ls2 = []\n",
    "\n",
    "count = 0\n",
    "start = 0\n",
    "\n",
    "for i in st1:\n",
    "    ls1.append(i)\n",
    "    \n",
    "for j in st2:\n",
    "    ls2.append(j)\n",
    "try :\n",
    "    for k in range(0,len(ls2)):\n",
    "        for l in range(start,len(ls1)):\n",
    "            if (ls1[l] == ls2 [k]):\n",
    "                start = l + 1\n",
    "                count = count + 1\n",
    "                k = k + 1\n",
    "                break\n",
    "except Exception as ex:\n",
    "    print(ex)\n",
    "if len(st2) == count:\n",
    "    print(\"+ve\")\n",
    "\n",
    "else:\n",
    "    print(\"-ve\")\n",
    "    "
   ]
  },
  {
   "cell_type": "code",
   "execution_count": null,
   "id": "68d7aa14",
   "metadata": {},
   "outputs": [],
   "source": []
  }
 ],
 "metadata": {
  "kernelspec": {
   "display_name": "Python 3",
   "language": "python",
   "name": "python3"
  },
  "language_info": {
   "codemirror_mode": {
    "name": "ipython",
    "version": 3
   },
   "file_extension": ".py",
   "mimetype": "text/x-python",
   "name": "python",
   "nbconvert_exporter": "python",
   "pygments_lexer": "ipython3",
   "version": "3.8.8"
  }
 },
 "nbformat": 4,
 "nbformat_minor": 5
}

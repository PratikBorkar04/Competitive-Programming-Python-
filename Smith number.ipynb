{
 "cells": [
  {
   "cell_type": "code",
   "execution_count": 62,
   "id": "7aef6509",
   "metadata": {},
   "outputs": [
    {
     "name": "stdout",
     "output_type": "stream",
     "text": [
      "4937775\n"
     ]
    }
   ],
   "source": [
    "#Smith Numbers\n",
    "#The sum of all digits of the telephone number is 4 + 9 + 3 + 7 + 7 + 7 + 5 = 42, and\n",
    "#the sum of the digits of its prime factors is equally 3 + 5 + 5 + 6 + 5 + 8 + 3 + 7 = 42.\n",
    "def smith(n):\n",
    "        ls = []\n",
    "        l1 = []\n",
    "        l2 = []\n",
    "        l3 = []\n",
    "        a = n\n",
    "        z = str(n)\n",
    "        c = 2\n",
    "        while(n > 1):\n",
    "            if(n % c == 0):\n",
    "\n",
    "                if c < 10:\n",
    "                    l1.append(c)\n",
    "                else:\n",
    "                    l1.append(str(c))\n",
    "                n = n / c\n",
    "            else:\n",
    "                c = c + 1\n",
    "\n",
    "        for i in z:\n",
    "            ls.append(i)\n",
    "\n",
    "        sum1 = 0\n",
    "\n",
    "        for j in ls:\n",
    "            sum1 = sum1 + int(j)\n",
    "        for k in l1:\n",
    "            if int(k) < 10:\n",
    "                l2.append(int(k))\n",
    "            else:\n",
    "                for l in k:\n",
    "                    l2.append(int(l))\n",
    "        add = 0\n",
    "\n",
    "        for m in l2:\n",
    "            add = add + int(m)\n",
    "        if sum1 == add:\n",
    "            return True\n",
    "        else:\n",
    "            a = a + 1  \n",
    "            if smith(a):\n",
    "                print(a)\n",
    "n = 4937770\n",
    "smith(n)\n",
    "\n",
    "'''\n",
    "    Sample Input\n",
    "    4937770\n",
    "    Sample Output\n",
    "    4937775\n",
    "\n",
    "'''"
   ]
  },
  {
   "cell_type": "code",
   "execution_count": null,
   "id": "07e9045b",
   "metadata": {},
   "outputs": [],
   "source": []
  },
  {
   "cell_type": "code",
   "execution_count": null,
   "id": "35c1ed76",
   "metadata": {},
   "outputs": [],
   "source": []
  }
 ],
 "metadata": {
  "kernelspec": {
   "display_name": "Python 3",
   "language": "python",
   "name": "python3"
  },
  "language_info": {
   "codemirror_mode": {
    "name": "ipython",
    "version": 3
   },
   "file_extension": ".py",
   "mimetype": "text/x-python",
   "name": "python",
   "nbconvert_exporter": "python",
   "pygments_lexer": "ipython3",
   "version": "3.8.8"
  }
 },
 "nbformat": 4,
 "nbformat_minor": 5
}

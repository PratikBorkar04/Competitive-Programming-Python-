{
 "cells": [
  {
   "cell_type": "code",
   "execution_count": 92,
   "id": "9949fb11",
   "metadata": {},
   "outputs": [
    {
     "name": "stdout",
     "output_type": "stream",
     "text": [
      "Enter an even number:-44\n",
      "2 , 2 , 3, 37\n"
     ]
    }
   ],
   "source": [
    "#Summation of Four Primes\n",
    "from collections import Counter\n",
    "ls1 = [2,2]\n",
    "ls2 = []\n",
    "ls3 = []\n",
    "n = int(input(\"Enter an even number:-\"))\n",
    "k = n - sum(ls1)\n",
    "\n",
    "count = Counter(ls2)\n",
    "try :\n",
    "    for i in range(3,k+1,2):\n",
    "        ls2.append(i)\n",
    "except Exception as ex:\n",
    "    print(ex)\n",
    "res = []\n",
    "\n",
    "count = Counter(ls2)\n",
    "  \n",
    "try :\n",
    "    for x in ls2:\n",
    "        y = k - x\n",
    "        if (x != y and count[y]) or (x == y and count[y] > 1):\n",
    "            res.append((x, y)) \n",
    "            count.subtract((x, y))\n",
    "            \n",
    "except Exception as ex:\n",
    "    print(ex)\n",
    "    \n",
    "z = sum(res[0])\n",
    "y = sum(ls1) + z\n",
    "h = str(res).strip('[]')\n",
    "\n",
    "if y == n:\n",
    "    print(ls1[0],\",\",ls1[1],\",\",h[1:6])\n",
    "else:\n",
    "    print(\"Not possible\")\n",
    "    \n",
    "'''Input:-\n",
    "Each input case consists of one integer n (n ≤ 10000000) on its own line. Input is\n",
    "terminated by end of file.\n",
    "'''\n",
    "'''Output:-\n",
    "For each input case n, print one line of output containing four prime numbers which\n",
    "sum up to n. If the number cannot be expressed as a summation of four prime numbers\n",
    "print the line “Impossible.” in a single line. There can be multiple solutions. Any\n",
    "good solution will be accepted.\n",
    "\n",
    "'''\n",
    "# sample input :- Enter an even number:-44\n",
    "#sample output :- 2 , 2 , 3, 37"
   ]
  },
  {
   "cell_type": "code",
   "execution_count": null,
   "id": "1417bd10",
   "metadata": {},
   "outputs": [],
   "source": []
  }
 ],
 "metadata": {
  "kernelspec": {
   "display_name": "Python 3",
   "language": "python",
   "name": "python3"
  },
  "language_info": {
   "codemirror_mode": {
    "name": "ipython",
    "version": 3
   },
   "file_extension": ".py",
   "mimetype": "text/x-python",
   "name": "python",
   "nbconvert_exporter": "python",
   "pygments_lexer": "ipython3",
   "version": "3.8.8"
  }
 },
 "nbformat": 4,
 "nbformat_minor": 5
}

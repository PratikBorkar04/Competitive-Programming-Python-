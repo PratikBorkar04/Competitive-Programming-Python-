{
 "cells": [
  {
   "cell_type": "code",
   "execution_count": 3,
   "id": "fb96ff2b",
   "metadata": {},
   "outputs": [
    {
     "name": "stdout",
     "output_type": "stream",
     "text": [
      "Enter a number for factorial:-6\n",
      "Enter a number to divide factoized number:-27\n",
      "27 does not divides 6 !\n"
     ]
    },
    {
     "data": {
      "text/plain": [
       "'Sample Input\\n6 9\\n\\nSample Output\\n9 divides 6!\\n\\n'"
      ]
     },
     "execution_count": 3,
     "metadata": {},
     "output_type": "execute_result"
    }
   ],
   "source": [
    "#Factovisors\n",
    "n1 = int(input(\"Enter a number for factorial:-\"))\n",
    "n2 = int(input(\"Enter a number to divide factoized number:-\"))\n",
    "\n",
    "fact = 1\n",
    "\n",
    "for i in range(1,n1+1):\n",
    "    fact = fact * i\n",
    "if fact % n2 == 0:\n",
    "    print(n2,\"divides\",n1,\"!\")\n",
    "else:\n",
    "    print(n2,\"does not divides\",n1,\"!\")\n",
    "    \n",
    "#Input :- The input to your program consists of several lines, each containing two non-negativeintegers, n and m, both less than 231.\n",
    "#Output :- For each input line, output a line stating whether or not m divides n!\n",
    "\n",
    "'''Sample Input\n",
    "6 9\n",
    "\n",
    "Sample Output\n",
    "9 divides 6!\n",
    "\n",
    "'''"
   ]
  },
  {
   "cell_type": "code",
   "execution_count": null,
   "id": "31584d7c",
   "metadata": {},
   "outputs": [],
   "source": []
  }
 ],
 "metadata": {
  "kernelspec": {
   "display_name": "Python 3",
   "language": "python",
   "name": "python3"
  },
  "language_info": {
   "codemirror_mode": {
    "name": "ipython",
    "version": 3
   },
   "file_extension": ".py",
   "mimetype": "text/x-python",
   "name": "python",
   "nbconvert_exporter": "python",
   "pygments_lexer": "ipython3",
   "version": "3.8.8"
  }
 },
 "nbformat": 4,
 "nbformat_minor": 5
}
